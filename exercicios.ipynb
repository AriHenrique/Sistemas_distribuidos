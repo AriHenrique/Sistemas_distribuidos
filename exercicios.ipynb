{
 "cells": [
  {
   "cell_type": "markdown",
   "source": [
    "#### 1 - *Desenha moldura*. Construa uma função que desenhe um retangulo usando os caracteres '+', '-' e |. Esta função deve receber dois parâmetros, linhas e colunas, sendo que o valor por omissão é o valor mínimo igual a 1 e o valor máximo é 20. Se valores fora da faixa forem informados, eles devem ser modificados para valores dentro da faixa de forma elegante."
   ],
   "metadata": {
    "collapsed": false
   }
  },
  {
   "cell_type": "code",
   "execution_count": 13,
   "outputs": [],
   "source": [
    "def moldura(x=1, y=1):\n",
    "    if x > 20:\n",
    "        x = 20\n",
    "    if y > 20:\n",
    "        y = 20\n",
    "    linha = ' -'\n",
    "    espaco = '  '\n",
    "    coluna = f'|{espaco * x} |\\n'\n",
    "\n",
    "    return print((f'+{linha * x} +\\n'\n",
    "                  f'{coluna * y}'\n",
    "                  f'+{linha * x} +'))"
   ],
   "metadata": {
    "collapsed": false
   }
  },
  {
   "cell_type": "code",
   "execution_count": 14,
   "outputs": [
    {
     "name": "stdout",
     "output_type": "stream",
     "text": [
      "+ - - - - - - - - - - - - - - - - - - - - +\n",
      "|                                         |\n",
      "|                                         |\n",
      "|                                         |\n",
      "|                                         |\n",
      "|                                         |\n",
      "|                                         |\n",
      "|                                         |\n",
      "|                                         |\n",
      "|                                         |\n",
      "|                                         |\n",
      "|                                         |\n",
      "|                                         |\n",
      "|                                         |\n",
      "|                                         |\n",
      "|                                         |\n",
      "|                                         |\n",
      "|                                         |\n",
      "|                                         |\n",
      "|                                         |\n",
      "|                                         |\n",
      "+ - - - - - - - - - - - - - - - - - - - - +\n"
     ]
    }
   ],
   "source": [
    "moldura(20, 20)"
   ],
   "metadata": {
    "collapsed": false
   }
  },
  {
   "cell_type": "markdown",
   "source": [
    "#### 2 - crie um programa que calcule 25% de aumento no salario"
   ],
   "metadata": {
    "collapsed": false
   }
  },
  {
   "cell_type": "code",
   "execution_count": 19,
   "outputs": [
    {
     "name": "stdout",
     "output_type": "stream",
     "text": [
      "FIM\n"
     ]
    }
   ],
   "source": [
    "while True:\n",
    "    try:\n",
    "        salario = float((input('Qual o seu salário?').replace(',', '.')))\n",
    "        print(round((salario * 1.25), 2))\n",
    "        break\n",
    "    except ValueError:\n",
    "        salario = input('Digite apenas números. Deseja continuar?Y/n').lower()\n",
    "        if salario == 'y':\n",
    "            continue\n",
    "        else:\n",
    "            print('FIM')\n",
    "            break"
   ],
   "metadata": {
    "collapsed": false
   }
  },
  {
   "cell_type": "markdown",
   "source": [
    "#### 3 - crie um programa que transforme o real em dolar - 5,39 real brasileiro"
   ],
   "metadata": {
    "collapsed": false
   }
  },
  {
   "cell_type": "code",
   "execution_count": 96,
   "outputs": [
    {
     "name": "stdout",
     "output_type": "stream",
     "text": [
      "R$100.00 são $539.00 em dolar\n"
     ]
    }
   ],
   "source": [
    "while True:\n",
    "    try:\n",
    "        real = float((input('Digite o valor em real a ser convertido em dolar').replace(',', '.')))\n",
    "        print(f'R${round(real, 2):.2f} são ${round((real * 5.39), 2):.2f} em dolar')\n",
    "        break\n",
    "    except ValueError:\n",
    "        salario = input('Digite apenas números. Deseja continuar?Y/n').lower()\n",
    "        if salario == 'y':\n",
    "            continue\n",
    "        else:\n",
    "            print('FIM')\n",
    "            break"
   ],
   "metadata": {
    "collapsed": false
   }
  },
  {
   "cell_type": "markdown",
   "source": [
    "#### 4 - crie um programa que transforme a letra maiuscula em minuscula"
   ],
   "metadata": {
    "collapsed": false
   }
  },
  {
   "cell_type": "code",
   "execution_count": 20,
   "outputs": [
    {
     "name": "stdout",
     "output_type": "stream",
     "text": [
      "ari\n"
     ]
    }
   ],
   "source": [
    "letra = input('Digite uma letra ou palavra para converter em minúscula').lower()\n",
    "print(letra)"
   ],
   "metadata": {
    "collapsed": false
   }
  },
  {
   "cell_type": "markdown",
   "source": [
    "#### 5 - crie um programa que leia o seu nome completo e que apresente somente o seu primeiro e o ultimo nomes"
   ],
   "metadata": {
    "collapsed": false
   }
  },
  {
   "cell_type": "code",
   "execution_count": 99,
   "outputs": [
    {
     "name": "stdout",
     "output_type": "stream",
     "text": [
      "Aristides e Cruz\n"
     ]
    }
   ],
   "source": [
    "nome = input('Digite seu nome completo').split()\n",
    "\n",
    "print(f'{nome[0]} e {nome[-1]}')"
   ],
   "metadata": {
    "collapsed": false
   }
  },
  {
   "cell_type": "markdown",
   "source": [
    "#### 6 - crie um programa que apresente o maior e o menor valor da sequencia ([54, 10, 29, 87, 7, 64])"
   ],
   "metadata": {
    "collapsed": false
   }
  },
  {
   "cell_type": "code",
   "execution_count": 100,
   "outputs": [
    {
     "name": "stdout",
     "output_type": "stream",
     "text": [
      "87\n"
     ]
    }
   ],
   "source": [
    "list = [54, 10, 29, 87, 7, 64]\n",
    "list = max(list)\n",
    "\n",
    "print(list)"
   ],
   "metadata": {
    "collapsed": false
   }
  },
  {
   "cell_type": "markdown",
   "source": [
    "#### 7 - crie um programa que verifica se a pessoa está apta ou nao para votar nas eleições"
   ],
   "metadata": {
    "collapsed": false
   }
  },
  {
   "cell_type": "code",
   "execution_count": 103,
   "outputs": [
    {
     "name": "stdout",
     "output_type": "stream",
     "text": [
      "Ápto para VOTAR!!!\n"
     ]
    }
   ],
   "source": [
    "while True:\n",
    "    try:\n",
    "        idade = float((input('Qual a sua idade?')))\n",
    "        if idade > 15:\n",
    "            print('Ápto para VOTAR!!!')\n",
    "        else:\n",
    "            print('Não está ápto para votar')\n",
    "        break\n",
    "    except ValueError:\n",
    "        salario = input('Digite apenas números. Deseja continuar?Y/n').lower()\n",
    "        if salario == 'y':\n",
    "            continue\n",
    "        else:\n",
    "            print('FIM')\n",
    "            break"
   ],
   "metadata": {
    "collapsed": false
   }
  },
  {
   "cell_type": "markdown",
   "source": [
    "## 1ª LISTA DE EXERCÍCIOS - PYTHON\n",
    "\n",
    "FAZER NO GOOGLE COLAB E ENVIAR O LINK ate 10/10/2022\n",
    "\n",
    "ATENÇÃO: Não se esqueça de compartilhar o link para permitir o acesso e a avaliação."
   ],
   "metadata": {
    "collapsed": false
   }
  },
  {
   "cell_type": "markdown",
   "source": [
    "#### 1 - Faça um programa que pergunte o nome, idade, peso e altura de uma pessoa e decide ser ela está apta a entrar no exercito. Obs: Para entrar no exercito é preciso ter mais de 18 anos, pesar igual ou mais que 60 kg e medir mais ou igual que 1,70:\n",
    "    Saida: 'Você está apto a servir o exercito' OU 'Você não está apto a servir o exercito'"
   ],
   "metadata": {
    "collapsed": false
   }
  },
  {
   "cell_type": "code",
   "execution_count": 4,
   "outputs": [
    {
     "name": "stdout",
     "output_type": "stream",
     "text": [
      "Ari ESTÁ apto a servir o exército\n"
     ]
    }
   ],
   "source": [
    "nome = input('Qual o seu nome?')\n",
    "\n",
    "while True:\n",
    "    try:\n",
    "        idade = int(input('Quantos anos você tem?'))\n",
    "        peso = int(input('Qual o seu peso em quilos (Kg)?'))\n",
    "    except ValueError:\n",
    "        loop_1 = input('Digite apenas números inteiros. Deseja continuar?Y/n')\n",
    "        if loop_1 == 'y':\n",
    "            continue\n",
    "        else:\n",
    "            print('FIM')\n",
    "            break\n",
    "    try:\n",
    "        altura = float(input('Qual a sua altura?').replace(',','.'))\n",
    "        if idade > 15 and peso >= 60 and altura >= 1.70:\n",
    "            print(f'{nome} ESTÁ apto a servir o exército')\n",
    "        else:\n",
    "            print(f'{nome} NÃO está apto a servir o exército')\n",
    "        break\n",
    "    except ValueError:\n",
    "        loop_2 = input('Digite apenas números com casas decimais. Deseja continuar?Y/n')\n",
    "        if loop_2 == 'y':\n",
    "            continue\n",
    "        else:\n",
    "            print('FIM')\n",
    "            break"
   ],
   "metadata": {
    "collapsed": false
   }
  },
  {
   "cell_type": "markdown",
   "source": [
    "#### 2 - Faça um programa que imprima a frase de tras para frente e veja o que está escrito. Palindromo - Anotaram a data da maratona"
   ],
   "metadata": {
    "collapsed": false
   }
  },
  {
   "cell_type": "code",
   "execution_count": 21,
   "outputs": [
    {
     "name": "stdout",
     "output_type": "stream",
     "text": [
      "anotaram ad atad a maratona\n"
     ]
    }
   ],
   "source": [
    "palindromo = 'Anotaram a data da maratona'[::-1]\n",
    "\n",
    "print((palindromo.lower()))"
   ],
   "metadata": {
    "collapsed": false
   }
  },
  {
   "cell_type": "markdown",
   "source": [
    "#### 3 - Faça um programa que calcule quantos segundos tem:\n",
    "    Entrada: dias = int(input(\"Dias: \")) horas = int(input(\"Horas: \")) minutos = int(input(\"Minutos: \"))"
   ],
   "metadata": {
    "collapsed": false
   }
  },
  {
   "cell_type": "code",
   "execution_count": 24,
   "outputs": [
    {
     "name": "stdout",
     "output_type": "stream",
     "text": [
      "10 DIA(S) tem 2160000 segundos\n",
      "10 HORA(S) tem 36000 segundos\n",
      "10 MINUTO(S) tem 600 segundos\n"
     ]
    }
   ],
   "source": [
    "while True:\n",
    "    try:\n",
    "        dias = int(input('Digite quanto(s) DIA(S) quer converver em SEGUNDOS'))\n",
    "        horas = int(input('Digite quanta(s) HORA(S) quer converver em SEGUNDOS'))\n",
    "        minutos = int(input('Digite quanto(s) MINUTO(S) quer converver em SEGUNDOS'))\n",
    "\n",
    "        print(f'{dias} DIA(S) tem {dias * 60 * 60 * 60} segundos')\n",
    "        print(f'{horas} HORA(S) tem {horas * 60 * 60} segundos')\n",
    "        print(f'{minutos} MINUTO(S) tem {minutos * 60} segundos')\n",
    "        break\n",
    "    except ValueError:\n",
    "        loop = input('Digite apenas números inteiros, gostaria de continuar?Y/n')\n",
    "    if loop == 'y':\n",
    "        continue\n",
    "    else:\n",
    "        print('FIM')\n",
    "        break"
   ],
   "metadata": {
    "collapsed": false
   }
  },
  {
   "cell_type": "markdown",
   "source": [
    "#### 4 Faça um programa que calcule o tempo de uma viagem de carro. Entrada: distância a percorrer e a velocidade média esperada para a viagem."
   ],
   "metadata": {
    "collapsed": false
   }
  },
  {
   "cell_type": "code",
   "execution_count": 34,
   "outputs": [
    {
     "name": "stdout",
     "output_type": "stream",
     "text": [
      "FIM\n"
     ]
    }
   ],
   "source": [
    "while True:\n",
    "    try:\n",
    "        distancia = int(input('Qual a distância em Km vai percorrer?'))\n",
    "        velocidade = int(input('Qual a velocidade média em Km/h esperada durante a viagem?'))\n",
    "\n",
    "        print(f'Você vai gastar {(distancia//velocidade)}:{int((distancia%velocidade)*60/100)} hrs para chegar no seu destino')\n",
    "        break\n",
    "    except ValueError:\n",
    "        loop = input('Digite apenas números inteiros, gostaria de continuar?Y/n')\n",
    "    if loop == 'y':\n",
    "        continue\n",
    "    else:\n",
    "        print('FIM')\n",
    "        break"
   ],
   "metadata": {
    "collapsed": false
   }
  },
  {
   "cell_type": "markdown",
   "source": [
    "#### 5 Faça um programa que recebe a velocidade do carro e, caso ultrapasse 80 km/h, exiba uma mensagem dizendo que o usuário foi multado.\n",
    "    Nesse caso, exiba o valor da multa, cobrando R$ 5 por km acima de 80 km/h."
   ],
   "metadata": {
    "collapsed": false
   }
  },
  {
   "cell_type": "code",
   "execution_count": 40,
   "outputs": [
    {
     "name": "stdout",
     "output_type": "stream",
     "text": [
      "Você foi multado em R$600\n"
     ]
    }
   ],
   "source": [
    "while True:\n",
    "    try:\n",
    "        velocidade = int(input('Qual a velocidade em KM/H está andando?'))\n",
    "\n",
    "        if velocidade > 80:\n",
    "            print(f'Você foi multado em R${(velocidade - 80)*5}')\n",
    "        else:\n",
    "            print('Você não ultrapassou o limite de velocidade')\n",
    "    except ValueError:\n",
    "        loop = input('Digite apenas números inteiros, gostaria de continuar?Y/n')\n",
    "        if loop == 'y':\n",
    "            continue\n",
    "        else:\n",
    "            print('FIM')\n",
    "            break"
   ],
   "metadata": {
    "collapsed": false
   }
  },
  {
   "cell_type": "markdown",
   "source": [
    "#### 6 Faça um programa para aprovar o empréstimo bancário para compra de uma casa. O programa deve perguntar o valor da casa a comprar, o salário e a quantidade de anos a pagar. O valor da prestação mensal não pode ser superior a 30% do salário. Calcule o valor da prestação como sendo o valor da casa a comprar dividido pelo número de meses a pagar."
   ],
   "metadata": {
    "collapsed": false
   }
  },
  {
   "cell_type": "code",
   "execution_count": 86,
   "outputs": [
    {
     "name": "stdout",
     "output_type": "stream",
     "text": [
      "Não conseguimos liberar o empréstimo de R$ 20000.0 prestação de R$ 1666.67  em 12 anos com o salário de R$ 2000.0.\n"
     ]
    }
   ],
   "source": [
    "while True:\n",
    "    try:\n",
    "        casa = float(input('Qual o valor da casa que pretende comprar?').replace(',','.'))\n",
    "        salario = float(input('Qual o seu salário?').replace(',','.'))\n",
    "        anos = int((int(input('Em quantos anos pretende pagar a casa?')))*12)\n",
    "        loop_casa = ''\n",
    "        if (casa//anos) >= (salario*0.3):\n",
    "            loop_casa = input(f'A prestação de R$ {(casa/anos):.2f} é superior a 30% do seu salário (que é {(salario*0.3):.2f}), com isto não podemos liberar o empréstimo de R$ {casa} em {anos//12} anos. Deseja fazer outra simulação?Y/n').lower()\n",
    "        else:\n",
    "            print(f'Sua prestação ficou em R$ {(casa/anos):.2f} durante {anos} meses')\n",
    "            break\n",
    "        if loop_casa == 'y':\n",
    "            continue\n",
    "        else:\n",
    "            print(f'Não conseguimos liberar o empréstimo de R$ {casa} com prestação de R$ {(casa/anos):.2f} em {anos//12} anos com o salário de R$ {salario}.')\n",
    "            break\n",
    "\n",
    "    except ValueError:\n",
    "        loop = input('Digite apenas números, gostaria de continuar?Y/n')\n",
    "        if loop == 'y':\n",
    "            continue\n",
    "        else:\n",
    "            print('FIM')\n",
    "            break"
   ],
   "metadata": {
    "collapsed": false
   }
  },
  {
   "cell_type": "markdown",
   "source": [
    "#### 7 Faça um programa para imprimir a tabuada (operação multiplicação) de um determinado número:\n",
    "    Saída: Ex. Tabuada do 5 de 0 a 9 5 X 0 = 0 5 X 1 = 5 ."
   ],
   "metadata": {
    "collapsed": false
   }
  },
  {
   "cell_type": "code",
   "execution_count": 88,
   "outputs": [
    {
     "name": "stdout",
     "output_type": "stream",
     "text": [
      "tabuada de 10\n",
      "10 x 0 = 0\n",
      "10 x 1 = 10\n",
      "10 x 2 = 20\n",
      "10 x 3 = 30\n",
      "10 x 4 = 40\n",
      "10 x 5 = 50\n",
      "10 x 6 = 60\n",
      "10 x 7 = 70\n",
      "10 x 8 = 80\n",
      "10 x 9 = 90\n",
      "\n"
     ]
    }
   ],
   "source": [
    "while True:\n",
    "    try:\n",
    "        tabuada = int(input('De qual número você quer a tabuada de operações de multiplicação?'))\n",
    "\n",
    "        print(f'tabuada de {tabuada}\\n'\n",
    "              f'{tabuada} x 0 = {tabuada*0}\\n'\n",
    "              f'{tabuada} x 1 = {tabuada*1}\\n'\n",
    "              f'{tabuada} x 2 = {tabuada*2}\\n'\n",
    "              f'{tabuada} x 3 = {tabuada*3}\\n'\n",
    "              f'{tabuada} x 4 = {tabuada*4}\\n'\n",
    "              f'{tabuada} x 5 = {tabuada*5}\\n'\n",
    "              f'{tabuada} x 6 = {tabuada*6}\\n'\n",
    "              f'{tabuada} x 7 = {tabuada*7}\\n'\n",
    "              f'{tabuada} x 8 = {tabuada*8}\\n'\n",
    "              f'{tabuada} x 9 = {tabuada*9}\\n')\n",
    "        break\n",
    "    except ValueError:\n",
    "        loop = input('Digite apenas números inteiros, gostaria de continuar?Y/n')\n",
    "        if loop == 'y':\n",
    "            continue\n",
    "        else:\n",
    "            print('FIM')\n",
    "            break"
   ],
   "metadata": {
    "collapsed": false
   }
  }
 ],
 "metadata": {
  "kernelspec": {
   "display_name": "Python 3",
   "language": "python",
   "name": "python3"
  },
  "language_info": {
   "codemirror_mode": {
    "name": "ipython",
    "version": 2
   },
   "file_extension": ".py",
   "mimetype": "text/x-python",
   "name": "python",
   "nbconvert_exporter": "python",
   "pygments_lexer": "ipython2",
   "version": "2.7.6"
  }
 },
 "nbformat": 4,
 "nbformat_minor": 0
}
