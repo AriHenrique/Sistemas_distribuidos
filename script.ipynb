{
 "cells": [
  {
   "cell_type": "code",
   "execution_count": 1,
   "metadata": {
    "collapsed": true,
    "pycharm": {
     "name": "#%%\n"
    }
   },
   "outputs": [],
   "source": [
    "import requests"
   ]
  },
  {
   "cell_type": "code",
   "execution_count": 17,
   "outputs": [
    {
     "name": "stdout",
     "output_type": "stream",
     "text": [
      "\n",
      "<?xml version=\"1.0\" encoding=\"UTF-8\"?>\n",
      "<xmlcep>\n",
      "  <cep>30140-071</cep>\n",
      "  <logradouro>Rua dos AimorÃ©s</logradouro>\n",
      "  <complemento>de 971/972 a 1399/1400</complemento>\n",
      "  <bairro>Boa Viagem</bairro>\n",
      "  <localidade>Belo Horizonte</localidade>\n",
      "  <uf>MG</uf>\n",
      "  <ibge>3106200</ibge>\n",
      "  <gia></gia>\n",
      "  <ddd>31</ddd>\n",
      "  <siafi>4123</siafi>\n",
      "</xmlcep>\n",
      "\n"
     ]
    }
   ],
   "source": [
    "url = 'https://viacep.com.br/ws/'\n",
    "cep = '30140071'\n",
    "formato = '/xml/'\n",
    "r = requests.get(url + cep + formato)\n",
    "if (r.status_code == 200):\n",
    "    print()\n",
    "    print(r.text, '\\n')\n",
    "    print()\n",
    "else:\n",
    "    print('Nao houve sucesso na requisicao.')"
   ],
   "metadata": {
    "collapsed": false,
    "pycharm": {
     "name": "#%%\n"
    }
   }
  },
  {
   "cell_type": "code",
   "execution_count": 26,
   "outputs": [
    {
     "name": "stdout",
     "output_type": "stream",
     "text": [
      "{'cep': '30140-071', 'logradouro': 'Rua dos Aimorés', 'complemento': 'de 971/972 a 1399/1400', 'bairro': 'Boa Viagem', 'localidade': 'Belo Horizonte', 'uf': 'MG', 'ibge': '3106200', 'gia': '', 'ddd': '31', 'siafi': '4123'} \n",
      "\n",
      "{'cep': '30140-072', 'logradouro': 'Rua dos Aimorés', 'complemento': 'de 1401/1402 a 1799/1800', 'bairro': 'Lourdes', 'localidade': 'Belo Horizonte', 'uf': 'MG', 'ibge': '3106200', 'gia': '', 'ddd': '31', 'siafi': '4123'} \n",
      "\n",
      "{'cep': '30140-073', 'logradouro': 'Rua dos Aimorés', 'complemento': 'de 2761/2762 a 3299/3300', 'bairro': 'Barro Preto', 'localidade': 'Belo Horizonte', 'uf': 'MG', 'ibge': '3106200', 'gia': '', 'ddd': '31', 'siafi': '4123'} \n",
      "\n",
      "{'cep': '30140-074', 'logradouro': 'Rua dos Aimorés', 'complemento': 'de 1801/1802 a 2369/2370', 'bairro': 'Lourdes', 'localidade': 'Belo Horizonte', 'uf': 'MG', 'ibge': '3106200', 'gia': '', 'ddd': '31', 'siafi': '4123'} \n",
      "\n",
      "{'cep': '30140-075', 'logradouro': 'Rua dos Aimorés', 'complemento': 'de 531/532 a 969/970', 'bairro': 'Funcionários', 'localidade': 'Belo Horizonte', 'uf': 'MG', 'ibge': '3106200', 'gia': '', 'ddd': '31', 'siafi': '4123'} \n",
      "\n"
     ]
    }
   ],
   "source": [
    "url = 'https://viacep.com.br/ws/'\n",
    "cep = ['30140071', '30140072', '30140073', '30140074', '30140075']\n",
    "formato = '/json/'\n",
    "\n",
    "for i in cep:\n",
    "    r = requests.get(url + i + formato)\n",
    "    if (r.status_code == 200):\n",
    "\n",
    "        print(r.json(), '\\n')\n",
    "    else:\n",
    "        print('Nao houve sucesso na requisicao.')"
   ],
   "metadata": {
    "collapsed": false,
    "pycharm": {
     "name": "#%%\n"
    }
   }
  },
  {
   "cell_type": "code",
   "execution_count": 47,
   "outputs": [
    {
     "name": "stdout",
     "output_type": "stream",
     "text": [
      "\n",
      "{'cep': '30140-073', 'logradouro': 'Rua dos Aimorés', 'complemento': 'de 2761/2762 a 3299/3300', 'bairro': 'Barro Preto', 'localidade': 'Belo Horizonte', 'uf': 'MG', 'ibge': '3106200', 'gia': '', 'ddd': '31', 'siafi': '4123'}\n",
      "\n",
      "\n",
      "{'cep': '30140-920', 'logradouro': 'Rua dos Aimorés', 'complemento': '66', 'bairro': 'Funcionários', 'localidade': 'Belo Horizonte', 'uf': 'MG', 'ibge': '3106200', 'gia': '', 'ddd': '31', 'siafi': '4123'}\n",
      "\n",
      "\n",
      "{'cep': '30140-076', 'logradouro': 'Rua dos Aimorés', 'complemento': 'de 2371/2372 a 2759/2760', 'bairro': 'Santo Agostinho', 'localidade': 'Belo Horizonte', 'uf': 'MG', 'ibge': '3106200', 'gia': '', 'ddd': '31', 'siafi': '4123'}\n",
      "\n",
      "\n",
      "{'cep': '30140-078', 'logradouro': 'Rua dos Aimorés', 'complemento': 'de 3301/3302 ao fim', 'bairro': 'Barro Preto', 'localidade': 'Belo Horizonte', 'uf': 'MG', 'ibge': '3106200', 'gia': '', 'ddd': '31', 'siafi': '4123'}\n",
      "\n",
      "\n",
      "{'cep': '30140-075', 'logradouro': 'Rua dos Aimorés', 'complemento': 'de 531/532 a 969/970', 'bairro': 'Funcionários', 'localidade': 'Belo Horizonte', 'uf': 'MG', 'ibge': '3106200', 'gia': '', 'ddd': '31', 'siafi': '4123'}\n",
      "\n",
      "\n",
      "{'cep': '30140-071', 'logradouro': 'Rua dos Aimorés', 'complemento': 'de 971/972 a 1399/1400', 'bairro': 'Boa Viagem', 'localidade': 'Belo Horizonte', 'uf': 'MG', 'ibge': '3106200', 'gia': '', 'ddd': '31', 'siafi': '4123'}\n",
      "\n",
      "\n",
      "{'cep': '30140-070', 'logradouro': 'Rua dos Aimorés', 'complemento': 'até 529/530', 'bairro': 'Funcionários', 'localidade': 'Belo Horizonte', 'uf': 'MG', 'ibge': '3106200', 'gia': '', 'ddd': '31', 'siafi': '4123'}\n",
      "\n",
      "\n",
      "{'cep': '30140-072', 'logradouro': 'Rua dos Aimorés', 'complemento': 'de 1401/1402 a 1799/1800', 'bairro': 'Lourdes', 'localidade': 'Belo Horizonte', 'uf': 'MG', 'ibge': '3106200', 'gia': '', 'ddd': '31', 'siafi': '4123'}\n",
      "\n",
      "\n",
      "{'cep': '30140-904', 'logradouro': 'Rua dos Aimorés', 'complemento': '462', 'bairro': 'Funcionários', 'localidade': 'Belo Horizonte', 'uf': 'MG', 'ibge': '3106200', 'gia': '', 'ddd': '31', 'siafi': '4123'}\n",
      "\n",
      "\n",
      "{'cep': '30140-074', 'logradouro': 'Rua dos Aimorés', 'complemento': 'de 1801/1802 a 2369/2370', 'bairro': 'Lourdes', 'localidade': 'Belo Horizonte', 'uf': 'MG', 'ibge': '3106200', 'gia': '', 'ddd': '31', 'siafi': '4123'}\n",
      "\n"
     ]
    }
   ],
   "source": [
    "url = 'https://viacep.com.br/ws/'\n",
    "rua = 'Rua dos Aimores'\n",
    "formato = '/json/'\n",
    "r = requests.get(url + '/MG' + '/Belo Horizonte' + '/' + rua +formato)\n",
    "if (r.status_code == 200):\n",
    "    #print('JSON: ', r.json(), '\\n')\n",
    "    values = r.json()\n",
    "\n",
    "    for i in values:\n",
    "        print()\n",
    "        print(i)\n",
    "        print()\n",
    "else:\n",
    "\n",
    "    print('Nao houve sucesso na requisicao.')"
   ],
   "metadata": {
    "collapsed": false,
    "pycharm": {
     "name": "#%%\n"
    }
   }
  }
 ],
 "metadata": {
  "kernelspec": {
   "display_name": "Python 3",
   "language": "python",
   "name": "python3"
  },
  "language_info": {
   "codemirror_mode": {
    "name": "ipython",
    "version": 2
   },
   "file_extension": ".py",
   "mimetype": "text/x-python",
   "name": "python",
   "nbconvert_exporter": "python",
   "pygments_lexer": "ipython2",
   "version": "2.7.6"
  }
 },
 "nbformat": 4,
 "nbformat_minor": 0
}